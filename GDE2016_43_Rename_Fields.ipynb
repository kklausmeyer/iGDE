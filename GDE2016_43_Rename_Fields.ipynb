{
 "cells": [
  {
   "cell_type": "code",
   "execution_count": 7,
   "metadata": {
    "collapsed": false
   },
   "outputs": [
    {
     "name": "stdout",
     "output_type": "stream",
     "text": [
      "importing arcpy\n"
     ]
    }
   ],
   "source": [
    "print (\"importing arcpy\")\n",
    "import arcpy\n",
    "from arcpy import env\n",
    "from arcpy.sa import *\n",
    "arcpy.CheckOutExtension(\"Spatial\")\n",
    "arcpy.env.overwriteOutput = True\n",
    "arcpy.env.transferDomains = True"
   ]
  },
  {
   "cell_type": "code",
   "execution_count": 8,
   "metadata": {
    "collapsed": false
   },
   "outputs": [],
   "source": [
    "path = \"N:\\\\Projects\\\\Groundwater\"\n",
    "\n",
    "out_gdb = path + \"\\\\temp\\\\CA_pGDE_v0_4_1_temp.gdb\"\n",
    "\n",
    "in_ds = \"pGDE_v0_4_1_sm\"\n",
    "out_ds = \"pGDE_v0_4_1_0_sm\"\n",
    "\n",
    "arcpy.env.workspace = out_gdb\n",
    "albers = arcpy.SpatialReference(\"N:\\\\Projects\\\\Groundwater\\\\scripts\\\\NAD 1983 California (Teale) Albers (Meters).prj\")"
   ]
  },
  {
   "cell_type": "code",
   "execution_count": 9,
   "metadata": {
    "collapsed": true
   },
   "outputs": [],
   "source": [
    "remap_list = [\n",
    "['gde_ID', 'ID'],\n",
    "['veg_ID', 'ID_v'],\n",
    "['veg_Name', 'Name_v'],\n",
    "['veg_DominantScientificName', 'GDEDomSc_v'],\n",
    "['veg_DominantCommonName', 'GDEDomCo_v'],\n",
    "['veg_Certainty', 'Cert_v'],\n",
    "['veg_Native', 'Native_v'],\n",
    "['veg_OriginalID', 'OrigID_v'],\n",
    "['veg_SourceType', 'SourceTy_v'],\n",
    "['veg_SourceName', 'SourceNa_v'],\n",
    "['veg_SourceID', 'SourceID_v'],\n",
    "['veg_ImageYear', 'ImgYr_v'],\n",
    "['veg_JoinID', 'JoinID_v'],\n",
    "['veg_Comments', 'Comments_v'],\n",
    "['wet_ID', 'ID_w'],\n",
    "['wet_Name', 'Name_w'],\n",
    "['wet_Certainty', 'Cert_w'],\n",
    "['wet_OriginalID', 'OrigID_w'],\n",
    "['wet_SourceType', 'SourceTy_w'],\n",
    "['wet_SourceName', 'SourceNa_w'],\n",
    "['wet_SourceID', 'SourceID_w'],\n",
    "['wet_ImageYear', 'ImgYr_w'],\n",
    "['wet_Comments', 'Comments_w'],\n",
    "['wet_HydricSoils', 'Hydric_w'],\n",
    "['use_BP', 'BP'],\n",
    "['BP_comment', 'BP_comm'],\n",
    "\n",
    "    ]"
   ]
  },
  {
   "cell_type": "code",
   "execution_count": 11,
   "metadata": {
    "collapsed": false
   },
   "outputs": [
    {
     "data": {
      "text/plain": [
       "<Result 'N:\\\\Projects\\\\Groundwater\\\\temp\\\\CA_pGDE_v0_4_1_temp.gdb\\\\pGDE_v0_4_1_0_sm'>"
      ]
     },
     "execution_count": 11,
     "metadata": {},
     "output_type": "execute_result"
    }
   ],
   "source": [
    "# Create new feature class\n",
    "\n",
    "#check if a fc or table exists, and if so, delete it\n",
    "if arcpy.Exists(out_ds):\n",
    "    arcpy.Delete_management(out_ds)\n",
    "\n",
    "arcpy.CreateFeatureclass_management(out_gdb, out_ds, \"POLYGON\", \"\", \"\", \"\", albers)"
   ]
  },
  {
   "cell_type": "code",
   "execution_count": 12,
   "metadata": {
    "collapsed": false
   },
   "outputs": [
    {
     "data": {
      "text/plain": [
       "<Result 'N:\\\\Projects\\\\Groundwater\\\\temp\\\\CA_pGDE_v0_4_1_temp.gdb\\\\pGDE_v0_4_1_0_sm'>"
      ]
     },
     "execution_count": 12,
     "metadata": {},
     "output_type": "execute_result"
    }
   ],
   "source": [
    "# Add fields\n",
    "arcpy.AddField_management(out_ds, 'ID', 'LONG', '', '', '', '', '', '', '')\n",
    "arcpy.AddField_management(out_ds, 'Confidence', 'TEXT', '', '', '50', '', '', '', '')\n",
    "arcpy.AddField_management(out_ds, 'Conf_comm', 'TEXT', '', '', '255', '', '', '', '')\n",
    "arcpy.AddField_management(out_ds, 'ID_v', 'LONG', '', '', '', '', '', '', '')\n",
    "arcpy.AddField_management(out_ds, 'Name_v', 'TEXT', '', '', '255', '', '', '', '')\n",
    "arcpy.AddField_management(out_ds, 'GDEDomSc_v', 'TEXT', '', '', '255', '', '', '', '')\n",
    "arcpy.AddField_management(out_ds, 'GDEDomCo_v', 'TEXT', '', '', '255', '', '', '', '')\n",
    "arcpy.AddField_management(out_ds, 'Cert_v', 'SHORT', '', '', '', '', '', '', '')\n",
    "arcpy.AddField_management(out_ds, 'Native_v', 'SHORT', '', '', '', '', '', '', '')\n",
    "arcpy.AddField_management(out_ds, 'OrigID_v', 'TEXT', '', '', '255', '', '', '', '')\n",
    "arcpy.AddField_management(out_ds, 'SourceTy_v', 'TEXT', '', '', '100', '', '', '', '')\n",
    "arcpy.AddField_management(out_ds, 'SourceNa_v', 'TEXT', '', '', '255', '', '', '', '')\n",
    "arcpy.AddField_management(out_ds, 'SourceID_v', 'TEXT', '', '', '50', '', '', '', '')\n",
    "arcpy.AddField_management(out_ds, 'ImgYr_v', 'SHORT', '', '', '', '', '', '', '')\n",
    "arcpy.AddField_management(out_ds, 'JoinID_v', 'TEXT', '', '', '255', '', '', '', '')\n",
    "arcpy.AddField_management(out_ds, 'Comments_v', 'TEXT', '', '', '255', '', '', '', '')\n",
    "arcpy.AddField_management(out_ds, 'ID_w', 'LONG', '', '', '', '', '', '', '')\n",
    "arcpy.AddField_management(out_ds, 'Name_w', 'TEXT', '', '', '255', '', '', '', '')\n",
    "arcpy.AddField_management(out_ds, 'Cert_w', 'SHORT', '', '', '', '', '', '', '')\n",
    "arcpy.AddField_management(out_ds, 'OrigID_w', 'TEXT', '', '', '255', '', '', '', '')\n",
    "arcpy.AddField_management(out_ds, 'SourceTy_w', 'TEXT', '', '', '100', '', '', '', '')\n",
    "arcpy.AddField_management(out_ds, 'SourceNa_w', 'TEXT', '', '', '255', '', '', '', '')\n",
    "arcpy.AddField_management(out_ds, 'SourceID_w', 'TEXT', '', '', '50', '', '', '', '')\n",
    "arcpy.AddField_management(out_ds, 'ImgYr_w', 'SHORT', '', '', '', '', '', '', '')\n",
    "arcpy.AddField_management(out_ds, 'Comments_w', 'TEXT', '', '', '255', '', '', '', '')\n",
    "arcpy.AddField_management(out_ds, 'Hydric_w', 'SHORT', '', '', '', '', '', '', '')\n",
    "arcpy.AddField_management(out_ds, 'BP', 'SHORT', '', '', '', '', '', '', '')\n",
    "arcpy.AddField_management(out_ds, 'BP_comm', 'TEXT', '', '', '255', '', '', '', '')\n"
   ]
  },
  {
   "cell_type": "code",
   "execution_count": 13,
   "metadata": {
    "collapsed": false
   },
   "outputs": [
    {
     "name": "stdout",
     "output_type": "stream",
     "text": [
      "Mapping field gde_ID to field ID\n",
      "Mapping field veg_ID to field ID_v\n",
      "Mapping field veg_Name to field Name_v\n",
      "Mapping field veg_DominantScientificName to field GDEDomSc_v\n",
      "Mapping field veg_DominantCommonName to field GDEDomCo_v\n",
      "Mapping field veg_Certainty to field Cert_v\n",
      "Mapping field veg_Native to field Native_v\n",
      "Mapping field veg_OriginalID to field OrigID_v\n",
      "Mapping field veg_SourceType to field SourceTy_v\n",
      "Mapping field veg_SourceName to field SourceNa_v\n",
      "Mapping field veg_SourceID to field SourceID_v\n",
      "Mapping field veg_ImageYear to field ImgYr_v\n",
      "Mapping field veg_JoinID to field JoinID_v\n",
      "Mapping field veg_Comments to field Comments_v\n",
      "Mapping field wet_ID to field ID_w\n",
      "Mapping field wet_Name to field Name_w\n",
      "Mapping field wet_Certainty to field Cert_w\n",
      "Mapping field wet_OriginalID to field OrigID_w\n",
      "Mapping field wet_SourceType to field SourceTy_w\n",
      "Mapping field wet_SourceName to field SourceNa_w\n",
      "Mapping field wet_SourceID to field SourceID_w\n",
      "Mapping field wet_ImageYear to field ImgYr_w\n",
      "Mapping field wet_Comments to field Comments_w\n",
      "Mapping field wet_HydricSoils to field Hydric_w\n",
      "Mapping field use_BP to field BP\n",
      "Mapping field BP_comment to field BP_comm\n"
     ]
    }
   ],
   "source": [
    "# Append the in_ds to the out_ds\n",
    "\n",
    "fieldmappings = arcpy.FieldMappings()\n",
    "fieldmappings.addTable(in_ds)\n",
    "fieldmappings.addTable(out_ds)\n",
    "\n",
    "for pair in remap_list:\n",
    "    old_name = pair[0]\n",
    "    new_name = pair[1]\n",
    "    print(\"Mapping field \" + old_name + \" to field \" + new_name)\n",
    "    fieldmap = fieldmappings.getFieldMap(fieldmappings.findFieldMapIndex(new_name))\n",
    "    fieldmap.addInputField(in_ds, old_name)\n",
    "    fieldmappings.replaceFieldMap(fieldmappings.findFieldMapIndex(new_name), fieldmap)\n",
    "    fieldmappings.removeFieldMap(fieldmappings.findFieldMapIndex(old_name))\n"
   ]
  },
  {
   "cell_type": "code",
   "execution_count": 14,
   "metadata": {
    "collapsed": false
   },
   "outputs": [
    {
     "data": {
      "text/plain": [
       "<Result 'N:\\\\Projects\\\\Groundwater\\\\temp\\\\CA_pGDE_v0_4_1_temp.gdb\\\\pGDE_v0_4_1_0_sm'>"
      ]
     },
     "execution_count": 14,
     "metadata": {},
     "output_type": "execute_result"
    }
   ],
   "source": [
    "arcpy.Append_management(in_ds, out_ds, \"NO_TEST\", fieldmappings)"
   ]
  },
  {
   "cell_type": "code",
   "execution_count": null,
   "metadata": {
    "collapsed": true
   },
   "outputs": [],
   "source": []
  }
 ],
 "metadata": {
  "kernelspec": {
   "display_name": "Python 3",
   "language": "python",
   "name": "python3"
  },
  "language_info": {
   "codemirror_mode": {
    "name": "ipython",
    "version": 3
   },
   "file_extension": ".py",
   "mimetype": "text/x-python",
   "name": "python",
   "nbconvert_exporter": "python",
   "pygments_lexer": "ipython3",
   "version": "3.4.4"
  }
 },
 "nbformat": 4,
 "nbformat_minor": 0
}
