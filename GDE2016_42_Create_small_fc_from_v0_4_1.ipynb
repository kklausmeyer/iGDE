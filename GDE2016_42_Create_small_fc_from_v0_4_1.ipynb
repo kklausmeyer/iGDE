{
 "cells": [
  {
   "cell_type": "code",
   "execution_count": 1,
   "metadata": {
    "collapsed": false
   },
   "outputs": [
    {
     "name": "stdout",
     "output_type": "stream",
     "text": [
      "importing arcpy\n"
     ]
    }
   ],
   "source": [
    "print (\"importing arcpy\")\n",
    "import arcpy\n",
    "from arcpy import env\n",
    "from arcpy.sa import *\n",
    "arcpy.CheckOutExtension(\"Spatial\")\n",
    "arcpy.env.overwriteOutput = True\n",
    "arcpy.env.transferDomains = True"
   ]
  },
  {
   "cell_type": "code",
   "execution_count": 2,
   "metadata": {
    "collapsed": false
   },
   "outputs": [],
   "source": [
    "path = \"N:\\\\Projects\\\\Groundwater\"\n",
    "in_gdb = path + \"\\\\gdbs\\\\CA_pGDE_v0_4_1_20170602.gdb\"\n",
    "\n",
    "out_gdb = path + \"\\\\temp\\\\CA_pGDE_v0_4_1_temp.gdb\"\n",
    "\n",
    "in_ds = in_gdb + \"\\\\pGDE_v0_4_1_SpatialJoin_2016GWB\"\n",
    "out_ds = \"pGDE_v0_4_1_sm\"\n",
    "\n",
    "sm = out_gdb + \"\\\\poly_sm\"\n",
    "\n",
    "arcpy.env.workspace = out_gdb\n"
   ]
  },
  {
   "cell_type": "code",
   "execution_count": 4,
   "metadata": {
    "collapsed": false
   },
   "outputs": [
    {
     "data": {
      "text/plain": [
       "<Result 'N:\\\\Projects\\\\Groundwater\\\\temp\\\\CA_pGDE_v0_4_1_temp.gdb\\\\pGDE_v0_4_1_sm'>"
      ]
     },
     "execution_count": 4,
     "metadata": {},
     "output_type": "execute_result"
    }
   ],
   "source": [
    "# Select the pgde data by the location\n",
    "\n",
    "arcpy.MakeFeatureLayer_management(in_ds, \"lyr\")\n",
    "arcpy.SelectLayerByLocation_management(\"lyr\", \"INTERSECT\", sm)\n",
    "arcpy.FeatureClassToFeatureClass_conversion(\"lyr\", out_gdb, out_ds)\n",
    "\n"
   ]
  },
  {
   "cell_type": "code",
   "execution_count": null,
   "metadata": {
    "collapsed": true
   },
   "outputs": [],
   "source": []
  }
 ],
 "metadata": {
  "kernelspec": {
   "display_name": "Python 3",
   "language": "python",
   "name": "python3"
  },
  "language_info": {
   "codemirror_mode": {
    "name": "ipython",
    "version": 3
   },
   "file_extension": ".py",
   "mimetype": "text/x-python",
   "name": "python",
   "nbconvert_exporter": "python",
   "pygments_lexer": "ipython3",
   "version": "3.4.4"
  }
 },
 "nbformat": 4,
 "nbformat_minor": 0
}
